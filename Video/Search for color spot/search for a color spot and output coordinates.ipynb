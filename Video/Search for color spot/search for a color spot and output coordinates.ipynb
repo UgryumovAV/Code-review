{
 "cells": [
  {
   "cell_type": "code",
   "execution_count": 1,
   "id": "7c54473c",
   "metadata": {},
   "outputs": [],
   "source": [
    "import cv2\n",
    "import numpy as np"
   ]
  },
  {
   "cell_type": "code",
   "execution_count": 6,
   "id": "59e3721d",
   "metadata": {},
   "outputs": [],
   "source": [
    "cap = cv2.VideoCapture(0)\n",
    "hsv_min = np.array((0, 0, 0), np.uint8)\n",
    "hsv_max = np.array((0, 0, 10), np.uint8)\n",
    "\n",
    "color_yellow = (0,255,255)"
   ]
  },
  {
   "cell_type": "code",
   "execution_count": 7,
   "id": "345def9e",
   "metadata": {},
   "outputs": [],
   "source": [
    "while True:\n",
    "    flag, img = cap.read()\n",
    "    img = cv2.flip(img,1) # отражение кадра вдоль оси Y\n",
    "    hsv = cv2.cvtColor(img, cv2.COLOR_BGR2HSV )\n",
    "    thresh = cv2.inRange(hsv, hsv_min, hsv_max)\n",
    "\n",
    "    moments = cv2.moments(thresh, 1)\n",
    "    dM01 = moments['m01']\n",
    "    dM10 = moments['m10']\n",
    "    dArea = moments['m00']\n",
    "\n",
    "    if dArea > 100:\n",
    "        x = int(dM10 / dArea)\n",
    "        y = int(dM01 / dArea)\n",
    "        cv2.circle(img, (x, y), 5, color_yellow, 2)\n",
    "        cv2.putText(img, \"%d-%d\" % (x,y), (x+10,y-10), \n",
    "                    cv2.FONT_HERSHEY_SIMPLEX, 1, color_yellow, 2)\n",
    "\n",
    "    cv2.imshow('result', img)\n",
    " \n",
    "    ch = cv2.waitKey(5)\n",
    "    if ch == 27:\n",
    "        break\n",
    "\n",
    "cap.release()\n",
    "cv2.destroyAllWindows()"
   ]
  },
  {
   "cell_type": "code",
   "execution_count": null,
   "id": "d3465609",
   "metadata": {},
   "outputs": [],
   "source": []
  }
 ],
 "metadata": {
  "kernelspec": {
   "display_name": "Python 3 (ipykernel)",
   "language": "python",
   "name": "python3"
  },
  "language_info": {
   "codemirror_mode": {
    "name": "ipython",
    "version": 3
   },
   "file_extension": ".py",
   "mimetype": "text/x-python",
   "name": "python",
   "nbconvert_exporter": "python",
   "pygments_lexer": "ipython3",
   "version": "3.9.12"
  }
 },
 "nbformat": 4,
 "nbformat_minor": 5
}
