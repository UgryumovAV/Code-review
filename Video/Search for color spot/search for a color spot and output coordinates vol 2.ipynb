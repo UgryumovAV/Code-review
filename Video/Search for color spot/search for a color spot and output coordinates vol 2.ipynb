{
 "cells": [
  {
   "cell_type": "code",
   "execution_count": 1,
   "id": "4c6d8273",
   "metadata": {},
   "outputs": [],
   "source": [
    "import cv2\n",
    "import numpy as np"
   ]
  },
  {
   "cell_type": "code",
   "execution_count": 80,
   "id": "722337da",
   "metadata": {},
   "outputs": [],
   "source": [
    "cap = cv2.VideoCapture(0)\n",
    "\n",
    "color_circle = (100, 100, 0)\n",
    "\n",
    "hsv_min = np.array((0, 30, 60), np.uint8) #диапазон для цвета кожи\n",
    "hsv_max = np.array((20, 150, 255), np.uint8)\n",
    "\n",
    "#bgr_min = np.array((0, 0, 0), np.uint8) #чёрный?\n",
    "#bgr_max = np.array((40, 40, 40), np.uint8)\n",
    "\n",
    "kernel = np.ones((5,5),np.uint8)"
   ]
  },
  {
   "cell_type": "code",
   "execution_count": 81,
   "id": "e3bcc7e4",
   "metadata": {},
   "outputs": [],
   "source": [
    "while True:\n",
    "    flag, img = cap.read()\n",
    "    img = cv2.flip(img,1) # отражение кадра вдоль оси Y\n",
    "    hsv = cv2.cvtColor(img, cv2.COLOR_BGR2HSV )\n",
    "    \n",
    "    #thresh_bgr = cv2.inRange(img, bgr_min, bgr_max)\n",
    "    thresh = cv2.inRange(hsv, hsv_min, hsv_max)\n",
    "    closing = cv2.morphologyEx(thresh, cv2.MORPH_CLOSE, kernel)\n",
    "    opening = cv2.morphologyEx(closing, cv2.MORPH_OPEN, kernel)\n",
    "\n",
    "    moments = cv2.moments(opening, 1)\n",
    "    dM01 = moments['m01']\n",
    "    dM10 = moments['m10']\n",
    "    dArea = moments['m00']\n",
    "\n",
    "    if dArea > 100:\n",
    "        x = int(dM10 / dArea)\n",
    "        y = int(dM01 / dArea)\n",
    "        cv2.circle(img, (x, y), 5, color_circle, 2)\n",
    "        cv2.putText(img, \"%d-%d\" % (x,y), (x+10,y-10), \n",
    "                    cv2.FONT_HERSHEY_SIMPLEX, 1, color_circle, 2)\n",
    "\n",
    "    cv2.imshow('result', opening)\n",
    " \n",
    "    ch = cv2.waitKey(5)\n",
    "    if ch == 27:\n",
    "        break\n",
    "\n",
    "cap.release()\n",
    "cv2.destroyAllWindows()"
   ]
  },
  {
   "cell_type": "code",
   "execution_count": null,
   "id": "2442f7a4",
   "metadata": {},
   "outputs": [],
   "source": []
  }
 ],
 "metadata": {
  "kernelspec": {
   "display_name": "Python 3 (ipykernel)",
   "language": "python",
   "name": "python3"
  },
  "language_info": {
   "codemirror_mode": {
    "name": "ipython",
    "version": 3
   },
   "file_extension": ".py",
   "mimetype": "text/x-python",
   "name": "python",
   "nbconvert_exporter": "python",
   "pygments_lexer": "ipython3",
   "version": "3.9.12"
  }
 },
 "nbformat": 4,
 "nbformat_minor": 5
}
